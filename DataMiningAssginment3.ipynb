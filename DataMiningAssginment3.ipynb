{
 "cells": [
  {
   "cell_type": "markdown",
   "id": "compound-wireless",
   "metadata": {},
   "source": [
    "# 互评作业3：分类、预测与聚类\n",
    "\n",
    "**姓名**：杨毅哲\n",
    "\n",
    "**学号**：3120201088\n",
    "\n",
    "**GitHub**：https://github.com/YangPatrick/DataMining\n",
    "\n",
    "## 包引用"
   ]
  },
  {
   "cell_type": "code",
   "execution_count": 1,
   "id": "imposed-prime",
   "metadata": {},
   "outputs": [],
   "source": [
    "import numpy as np\n",
    "import pandas as pd\n",
    "import matplotlib.pyplot as plt\n",
    "import seaborn as sns\n",
    "from sklearn.preprocessing import LabelEncoder\n",
    "from sklearn.model_selection import train_test_split\n",
    "from sklearn.metrics import r2_score, mean_absolute_error, mean_squared_error\n",
    "from sklearn.linear_model import LogisticRegression\n",
    "import warnings\n",
    "warnings.filterwarnings(\"ignore\")"
   ]
  },
  {
   "cell_type": "markdown",
   "id": "crazy-harbor",
   "metadata": {},
   "source": [
    "## 数据处理\n",
    "\n",
    "对数据进行加载，并对其情况进行简要展示后，进行数据预处理"
   ]
  },
  {
   "cell_type": "code",
   "execution_count": 2,
   "id": "refined-toilet",
   "metadata": {},
   "outputs": [
    {
     "data": {
      "text/html": [
       "<div>\n",
       "<style scoped>\n",
       "    .dataframe tbody tr th:only-of-type {\n",
       "        vertical-align: middle;\n",
       "    }\n",
       "\n",
       "    .dataframe tbody tr th {\n",
       "        vertical-align: top;\n",
       "    }\n",
       "\n",
       "    .dataframe thead th {\n",
       "        text-align: right;\n",
       "    }\n",
       "</style>\n",
       "<table border=\"1\" class=\"dataframe\">\n",
       "  <thead>\n",
       "    <tr style=\"text-align: right;\">\n",
       "      <th></th>\n",
       "      <th>hotel</th>\n",
       "      <th>is_canceled</th>\n",
       "      <th>lead_time</th>\n",
       "      <th>arrival_date_year</th>\n",
       "      <th>arrival_date_month</th>\n",
       "      <th>arrival_date_week_number</th>\n",
       "      <th>arrival_date_day_of_month</th>\n",
       "      <th>stays_in_weekend_nights</th>\n",
       "      <th>stays_in_week_nights</th>\n",
       "      <th>adults</th>\n",
       "      <th>...</th>\n",
       "      <th>deposit_type</th>\n",
       "      <th>agent</th>\n",
       "      <th>company</th>\n",
       "      <th>days_in_waiting_list</th>\n",
       "      <th>customer_type</th>\n",
       "      <th>adr</th>\n",
       "      <th>required_car_parking_spaces</th>\n",
       "      <th>total_of_special_requests</th>\n",
       "      <th>reservation_status</th>\n",
       "      <th>reservation_status_date</th>\n",
       "    </tr>\n",
       "  </thead>\n",
       "  <tbody>\n",
       "    <tr>\n",
       "      <th>0</th>\n",
       "      <td>Resort Hotel</td>\n",
       "      <td>0</td>\n",
       "      <td>342</td>\n",
       "      <td>2015</td>\n",
       "      <td>July</td>\n",
       "      <td>27</td>\n",
       "      <td>1</td>\n",
       "      <td>0</td>\n",
       "      <td>0</td>\n",
       "      <td>2</td>\n",
       "      <td>...</td>\n",
       "      <td>No Deposit</td>\n",
       "      <td>NaN</td>\n",
       "      <td>NaN</td>\n",
       "      <td>0</td>\n",
       "      <td>Transient</td>\n",
       "      <td>0.0</td>\n",
       "      <td>0</td>\n",
       "      <td>0</td>\n",
       "      <td>Check-Out</td>\n",
       "      <td>2015-07-01</td>\n",
       "    </tr>\n",
       "    <tr>\n",
       "      <th>1</th>\n",
       "      <td>Resort Hotel</td>\n",
       "      <td>0</td>\n",
       "      <td>737</td>\n",
       "      <td>2015</td>\n",
       "      <td>July</td>\n",
       "      <td>27</td>\n",
       "      <td>1</td>\n",
       "      <td>0</td>\n",
       "      <td>0</td>\n",
       "      <td>2</td>\n",
       "      <td>...</td>\n",
       "      <td>No Deposit</td>\n",
       "      <td>NaN</td>\n",
       "      <td>NaN</td>\n",
       "      <td>0</td>\n",
       "      <td>Transient</td>\n",
       "      <td>0.0</td>\n",
       "      <td>0</td>\n",
       "      <td>0</td>\n",
       "      <td>Check-Out</td>\n",
       "      <td>2015-07-01</td>\n",
       "    </tr>\n",
       "    <tr>\n",
       "      <th>2</th>\n",
       "      <td>Resort Hotel</td>\n",
       "      <td>0</td>\n",
       "      <td>7</td>\n",
       "      <td>2015</td>\n",
       "      <td>July</td>\n",
       "      <td>27</td>\n",
       "      <td>1</td>\n",
       "      <td>0</td>\n",
       "      <td>1</td>\n",
       "      <td>1</td>\n",
       "      <td>...</td>\n",
       "      <td>No Deposit</td>\n",
       "      <td>NaN</td>\n",
       "      <td>NaN</td>\n",
       "      <td>0</td>\n",
       "      <td>Transient</td>\n",
       "      <td>75.0</td>\n",
       "      <td>0</td>\n",
       "      <td>0</td>\n",
       "      <td>Check-Out</td>\n",
       "      <td>2015-07-02</td>\n",
       "    </tr>\n",
       "    <tr>\n",
       "      <th>3</th>\n",
       "      <td>Resort Hotel</td>\n",
       "      <td>0</td>\n",
       "      <td>13</td>\n",
       "      <td>2015</td>\n",
       "      <td>July</td>\n",
       "      <td>27</td>\n",
       "      <td>1</td>\n",
       "      <td>0</td>\n",
       "      <td>1</td>\n",
       "      <td>1</td>\n",
       "      <td>...</td>\n",
       "      <td>No Deposit</td>\n",
       "      <td>304.0</td>\n",
       "      <td>NaN</td>\n",
       "      <td>0</td>\n",
       "      <td>Transient</td>\n",
       "      <td>75.0</td>\n",
       "      <td>0</td>\n",
       "      <td>0</td>\n",
       "      <td>Check-Out</td>\n",
       "      <td>2015-07-02</td>\n",
       "    </tr>\n",
       "    <tr>\n",
       "      <th>4</th>\n",
       "      <td>Resort Hotel</td>\n",
       "      <td>0</td>\n",
       "      <td>14</td>\n",
       "      <td>2015</td>\n",
       "      <td>July</td>\n",
       "      <td>27</td>\n",
       "      <td>1</td>\n",
       "      <td>0</td>\n",
       "      <td>2</td>\n",
       "      <td>2</td>\n",
       "      <td>...</td>\n",
       "      <td>No Deposit</td>\n",
       "      <td>240.0</td>\n",
       "      <td>NaN</td>\n",
       "      <td>0</td>\n",
       "      <td>Transient</td>\n",
       "      <td>98.0</td>\n",
       "      <td>0</td>\n",
       "      <td>1</td>\n",
       "      <td>Check-Out</td>\n",
       "      <td>2015-07-03</td>\n",
       "    </tr>\n",
       "  </tbody>\n",
       "</table>\n",
       "<p>5 rows × 32 columns</p>\n",
       "</div>"
      ],
      "text/plain": [
       "          hotel  is_canceled  lead_time  arrival_date_year arrival_date_month  \\\n",
       "0  Resort Hotel            0        342               2015               July   \n",
       "1  Resort Hotel            0        737               2015               July   \n",
       "2  Resort Hotel            0          7               2015               July   \n",
       "3  Resort Hotel            0         13               2015               July   \n",
       "4  Resort Hotel            0         14               2015               July   \n",
       "\n",
       "   arrival_date_week_number  arrival_date_day_of_month  \\\n",
       "0                        27                          1   \n",
       "1                        27                          1   \n",
       "2                        27                          1   \n",
       "3                        27                          1   \n",
       "4                        27                          1   \n",
       "\n",
       "   stays_in_weekend_nights  stays_in_week_nights  adults  ...  deposit_type  \\\n",
       "0                        0                     0       2  ...    No Deposit   \n",
       "1                        0                     0       2  ...    No Deposit   \n",
       "2                        0                     1       1  ...    No Deposit   \n",
       "3                        0                     1       1  ...    No Deposit   \n",
       "4                        0                     2       2  ...    No Deposit   \n",
       "\n",
       "   agent company days_in_waiting_list customer_type   adr  \\\n",
       "0    NaN     NaN                    0     Transient   0.0   \n",
       "1    NaN     NaN                    0     Transient   0.0   \n",
       "2    NaN     NaN                    0     Transient  75.0   \n",
       "3  304.0     NaN                    0     Transient  75.0   \n",
       "4  240.0     NaN                    0     Transient  98.0   \n",
       "\n",
       "   required_car_parking_spaces  total_of_special_requests  reservation_status  \\\n",
       "0                            0                          0           Check-Out   \n",
       "1                            0                          0           Check-Out   \n",
       "2                            0                          0           Check-Out   \n",
       "3                            0                          0           Check-Out   \n",
       "4                            0                          1           Check-Out   \n",
       "\n",
       "  reservation_status_date  \n",
       "0              2015-07-01  \n",
       "1              2015-07-01  \n",
       "2              2015-07-02  \n",
       "3              2015-07-02  \n",
       "4              2015-07-03  \n",
       "\n",
       "[5 rows x 32 columns]"
      ]
     },
     "execution_count": 2,
     "metadata": {},
     "output_type": "execute_result"
    }
   ],
   "source": [
    "data = pd.read_csv('hotel_bookings.csv')\n",
    "data.head()"
   ]
  },
  {
   "cell_type": "code",
   "execution_count": 3,
   "id": "closed-review",
   "metadata": {},
   "outputs": [
    {
     "name": "stdout",
     "output_type": "stream",
     "text": [
      "<class 'pandas.core.frame.DataFrame'>\n",
      "RangeIndex: 119390 entries, 0 to 119389\n",
      "Data columns (total 32 columns):\n",
      " #   Column                          Non-Null Count   Dtype  \n",
      "---  ------                          --------------   -----  \n",
      " 0   hotel                           119390 non-null  object \n",
      " 1   is_canceled                     119390 non-null  int64  \n",
      " 2   lead_time                       119390 non-null  int64  \n",
      " 3   arrival_date_year               119390 non-null  int64  \n",
      " 4   arrival_date_month              119390 non-null  object \n",
      " 5   arrival_date_week_number        119390 non-null  int64  \n",
      " 6   arrival_date_day_of_month       119390 non-null  int64  \n",
      " 7   stays_in_weekend_nights         119390 non-null  int64  \n",
      " 8   stays_in_week_nights            119390 non-null  int64  \n",
      " 9   adults                          119390 non-null  int64  \n",
      " 10  children                        119386 non-null  float64\n",
      " 11  babies                          119390 non-null  int64  \n",
      " 12  meal                            119390 non-null  object \n",
      " 13  country                         118902 non-null  object \n",
      " 14  market_segment                  119390 non-null  object \n",
      " 15  distribution_channel            119390 non-null  object \n",
      " 16  is_repeated_guest               119390 non-null  int64  \n",
      " 17  previous_cancellations          119390 non-null  int64  \n",
      " 18  previous_bookings_not_canceled  119390 non-null  int64  \n",
      " 19  reserved_room_type              119390 non-null  object \n",
      " 20  assigned_room_type              119390 non-null  object \n",
      " 21  booking_changes                 119390 non-null  int64  \n",
      " 22  deposit_type                    119390 non-null  object \n",
      " 23  agent                           103050 non-null  float64\n",
      " 24  company                         6797 non-null    float64\n",
      " 25  days_in_waiting_list            119390 non-null  int64  \n",
      " 26  customer_type                   119390 non-null  object \n",
      " 27  adr                             119390 non-null  float64\n",
      " 28  required_car_parking_spaces     119390 non-null  int64  \n",
      " 29  total_of_special_requests       119390 non-null  int64  \n",
      " 30  reservation_status              119390 non-null  object \n",
      " 31  reservation_status_date         119390 non-null  object \n",
      "dtypes: float64(4), int64(16), object(12)\n",
      "memory usage: 29.1+ MB\n"
     ]
    }
   ],
   "source": [
    "data.info()"
   ]
  },
  {
   "cell_type": "code",
   "execution_count": 4,
   "id": "further-logan",
   "metadata": {},
   "outputs": [
    {
     "data": {
      "text/plain": [
       "hotel                                  0\n",
       "is_canceled                            0\n",
       "lead_time                              0\n",
       "arrival_date_year                      0\n",
       "arrival_date_month                     0\n",
       "arrival_date_week_number               0\n",
       "arrival_date_day_of_month              0\n",
       "stays_in_weekend_nights                0\n",
       "stays_in_week_nights                   0\n",
       "adults                                 0\n",
       "children                               4\n",
       "babies                                 0\n",
       "meal                                   0\n",
       "country                              488\n",
       "market_segment                         0\n",
       "distribution_channel                   0\n",
       "is_repeated_guest                      0\n",
       "previous_cancellations                 0\n",
       "previous_bookings_not_canceled         0\n",
       "reserved_room_type                     0\n",
       "assigned_room_type                     0\n",
       "booking_changes                        0\n",
       "deposit_type                           0\n",
       "agent                              16340\n",
       "company                           112593\n",
       "days_in_waiting_list                   0\n",
       "customer_type                          0\n",
       "adr                                    0\n",
       "required_car_parking_spaces            0\n",
       "total_of_special_requests              0\n",
       "reservation_status                     0\n",
       "reservation_status_date                0\n",
       "dtype: int64"
      ]
     },
     "execution_count": 4,
     "metadata": {},
     "output_type": "execute_result"
    }
   ],
   "source": [
    "data.isna().sum()"
   ]
  },
  {
   "cell_type": "markdown",
   "id": "false-break",
   "metadata": {},
   "source": [
    "从上面的数据可以看出，只有`children`，`country`，`agent`和`company`四个属性存在空值，但是在之后的数据挖掘任务中并不需要这四个属性，因此我们先将这些属性去除，避免影响之后分析"
   ]
  },
  {
   "cell_type": "code",
   "execution_count": 5,
   "id": "peripheral-afghanistan",
   "metadata": {},
   "outputs": [],
   "source": [
    "data = data.drop(['children', 'country', 'agent', 'company'], axis=1)"
   ]
  },
  {
   "cell_type": "markdown",
   "id": "alive-apparatus",
   "metadata": {},
   "source": [
    "## 基本情况\n",
    "\n",
    "目标：针对数据集，对城市酒店和假日酒店的预订需求和入住率进行比较\n",
    "\n",
    "### 属性分析\n",
    "\n",
    "首先我们先分析一下属性类型，分别分析`hotel`属性和`reservation_status`属性的取值"
   ]
  },
  {
   "cell_type": "code",
   "execution_count": 6,
   "id": "involved-community",
   "metadata": {},
   "outputs": [
    {
     "name": "stdout",
     "output_type": "stream",
     "text": [
      "['Resort Hotel' 'City Hotel']\n",
      "['Check-Out' 'Canceled' 'No-Show']\n"
     ]
    }
   ],
   "source": [
    "print(data['hotel'].unique())\n",
    "print(data['reservation_status'].unique())"
   ]
  },
  {
   "cell_type": "markdown",
   "id": "empty-situation",
   "metadata": {},
   "source": [
    "可见，数据集中只有两种`hotel`，分别是假日酒店（`Resort Hotel`）和城市酒店（`City Hotel`），而他们的预订状态有三种，分别是退房（`Check-Out`）、失约（`No-Show`）和取消预订（`Canceled`）。\n",
    "\n",
    "我们以三种属性的总量作为预订需求的衡量值，而以退房属性的数量与总预订量的比率作为实际入住率。"
   ]
  },
  {
   "cell_type": "code",
   "execution_count": 7,
   "id": "handy-playback",
   "metadata": {},
   "outputs": [
    {
     "name": "stdout",
     "output_type": "stream",
     "text": [
      "Total Reservation\n",
      "City Hotel\t 79330\n",
      "Resort Hotel\t 40060\n",
      "Total Occupancy\n",
      "City Hotel\t 46228\n",
      "Resort Hotel\t 28938\n",
      "Occupancy Rate\n",
      "City Hotel\t 0.5827303668221354\n",
      "Resort Hotel\t 0.7223664503245132\n"
     ]
    }
   ],
   "source": [
    "print('Total Reservation')\n",
    "reservation = data.hotel.value_counts()\n",
    "print('City Hotel\\t', reservation[0])\n",
    "print('Resort Hotel\\t', reservation[1])\n",
    "check_out = data.loc[data['reservation_status']=='Check-Out'].hotel.value_counts()\n",
    "print('Total Occupancy')\n",
    "print('City Hotel\\t', check_out[0])\n",
    "print('Resort Hotel\\t', check_out[1])\n",
    "print('Occupancy Rate')\n",
    "print('City Hotel\\t',check_out[0]/reservation[0])\n",
    "print('Resort Hotel\\t',check_out[1]/reservation[1])"
   ]
  },
  {
   "cell_type": "markdown",
   "id": "swedish-concrete",
   "metadata": {},
   "source": [
    "可以看出，虽然预订数量和入住数量上城市酒店都比假日酒店多，但是实际入住率假日酒店要比城市酒店多出14%，因此针对入住情况而言，假日酒店要好于城市酒店\n",
    "\n",
    "## 用户行为分析\n",
    "\n",
    "分析用户提前预定时间、入住时长、预订间隔以及餐食预订情况。\n",
    "\n",
    "首先为了复用性，定义一个数据可视化函数："
   ]
  },
  {
   "cell_type": "code",
   "execution_count": 8,
   "id": "comfortable-study",
   "metadata": {},
   "outputs": [],
   "source": [
    "def plotHist(data, col_name):\n",
    "    plt.plot()\n",
    "    data = data[col_name]\n",
    "    plt.hist(data)\n",
    "    plt.title(col_name)\n",
    "    plt.show()"
   ]
  },
  {
   "cell_type": "markdown",
   "id": "composite-mongolia",
   "metadata": {},
   "source": [
    "### 提前预定时间和预订间隔"
   ]
  },
  {
   "cell_type": "code",
   "execution_count": 9,
   "id": "seeing-phone",
   "metadata": {},
   "outputs": [
    {
     "data": {
      "image/png": "[encoded data removed]",
      "text/plain": [
       "<Figure size 432x288 with 1 Axes>"
      ]
     },
     "metadata": {
      "needs_background": "light"
     },
     "output_type": "display_data"
    }
   ],
   "source": [
    "attribute_name = 'lead_time'\n",
    "plotHist(data, attribute_name)"
   ]
  },
  {
   "cell_type": "markdown",
   "id": "twelve-advocate",
   "metadata": {},
   "source": [
    "从上图可以看出，大部分情况都集中在提前200天预订，其中提前一天预订的数量最多\n",
    "### 入住时长"
   ]
  },
  {
   "cell_type": "code",
   "execution_count": 10,
   "id": "acceptable-palestinian",
   "metadata": {},
   "outputs": [
    {
     "data": {
      "image/png": "[encoded data removed]",
      "text/plain": [
       "<Figure size 432x288 with 1 Axes>"
      ]
     },
     "metadata": {
      "needs_background": "light"
     },
     "output_type": "display_data"
    },
    {
     "data": {
      "image/png": "[encoded data removed]",
      "text/plain": [
       "<Figure size 432x288 with 1 Axes>"
      ]
     },
     "metadata": {
      "needs_background": "light"
     },
     "output_type": "display_data"
    }
   ],
   "source": [
    "attribute_name = 'stays_in_weekend_nights'\n",
    "plotHist(data, attribute_name)\n",
    "attribute_name = 'stays_in_week_nights'\n",
    "plotHist(data, attribute_name)"
   ]
  },
  {
   "cell_type": "markdown",
   "id": "limited-invitation",
   "metadata": {},
   "source": [
    "从上面两幅图像看出，大部分人的入住时间都是在一周以内的\n",
    "\n",
    "### 餐食预订\n",
    "\n",
    "由于餐食的属性值记录的是点餐食的类别，因此使用统计方法展示，定义统计可视化图函数："
   ]
  },
  {
   "cell_type": "code",
   "execution_count": 11,
   "id": "random-hanging",
   "metadata": {},
   "outputs": [
    {
     "data": {
      "image/png": "[encoded data removed]",
      "text/plain": [
       "<Figure size 432x288 with 1 Axes>"
      ]
     },
     "metadata": {
      "needs_background": "light"
     },
     "output_type": "display_data"
    }
   ],
   "source": [
    "def plotCount(data, col_name):\n",
    "    plt.plot()\n",
    "    sns.histplot(data=data[col_name],stat='count')\n",
    "    plt.title(col_name)\n",
    "    plt.xticks(rotation=90)\n",
    "    plt.show()\n",
    "plotCount(data, 'meal')"
   ]
  },
  {
   "cell_type": "markdown",
   "id": "peripheral-anxiety",
   "metadata": {},
   "source": [
    "从上图可以看出，点BB类餐的人数最多，而点FB类餐的人数最少。\n",
    "\n",
    "## 一年中最佳预订酒店时间\n",
    "\n",
    "本部分从最佳预订的月份、周数和日期的角度进行分析，寻找最佳预订时间。\n",
    "\n",
    "首先分析每个月的预订数量："
   ]
  },
  {
   "cell_type": "code",
   "execution_count": 12,
   "id": "focal-reading",
   "metadata": {},
   "outputs": [
    {
     "data": {
      "image/png": "[encoded data removed]",
      "text/plain": [
       "<Figure size 432x288 with 1 Axes>"
      ]
     },
     "metadata": {
      "needs_background": "light"
     },
     "output_type": "display_data"
    }
   ],
   "source": [
    "plotCount(data, 'arrival_date_month')"
   ]
  },
  {
   "cell_type": "markdown",
   "id": "opposite-ministry",
   "metadata": {},
   "source": [
    "需要注意的是，上图的横轴并不是按照月份顺序进行排列的。从上图可以看出，六月份到八月份的到达人数最多，说明是入住的旺季。如果希望有房间，那么可以选择在十一月到二月预订。\n",
    "\n",
    "其次是进行周数分析："
   ]
  },
  {
   "cell_type": "code",
   "execution_count": 13,
   "id": "monthly-rebate",
   "metadata": {},
   "outputs": [
    {
     "data": {
      "image/png": "[encoded data removed]",
      "text/plain": [
       "<Figure size 432x288 with 1 Axes>"
      ]
     },
     "metadata": {
      "needs_background": "light"
     },
     "output_type": "display_data"
    }
   ],
   "source": [
    "plotCount(data, 'arrival_date_week_number')"
   ]
  },
  {
   "cell_type": "markdown",
   "id": "welsh-avatar",
   "metadata": {},
   "source": [
    "从上图可以看出，大多数的达到人数在几种在25到35周，进一步验证了在6到8月人数较多的分析结果。\n",
    "\n",
    "最后是月份日期的分析："
   ]
  },
  {
   "cell_type": "code",
   "execution_count": 14,
   "id": "trying-venue",
   "metadata": {},
   "outputs": [
    {
     "data": {
      "image/png": "[encoded data removed]",
      "text/plain": [
       "<Figure size 432x288 with 1 Axes>"
      ]
     },
     "metadata": {
      "needs_background": "light"
     },
     "output_type": "display_data"
    }
   ],
   "source": [
    "plotCount(data, 'arrival_date_day_of_month')"
   ]
  },
  {
   "cell_type": "markdown",
   "id": "frequent-petroleum",
   "metadata": {},
   "source": [
    "从上图可以看出，在月份中，每天到达的人数都差不多，因此不存在特别突出的分析价值。\n",
    "\n",
    "## 利用Logistic预测酒店预订\n",
    "\n",
    "为了进行Logistic预测，我们首先要将所有的标称属性重新编码为数值属性，才能作为特征进行预测，我们采用`sklearn`包中的`LabelEncoder`进行自动编码"
   ]
  },
  {
   "cell_type": "code",
   "execution_count": 15,
   "id": "tight-neutral",
   "metadata": {},
   "outputs": [],
   "source": [
    "label_encoder = LabelEncoder()\n",
    "nominal_attribute_names = [\n",
    "    'hotel',\n",
    "    'customer_type',\n",
    "    'assigned_room_type',\n",
    "    'deposit_type',\n",
    "    'reservation_status',\n",
    "    'meal',\n",
    "    'arrival_date_month',\n",
    "    'distribution_channel',\n",
    "    'market_segment',\n",
    "    'reserved_room_type',\n",
    "    'reservation_status_date'\n",
    "]\n",
    "for attribute_name in nominal_attribute_names:\n",
    "    data[attribute_name] = label_encoder.fit_transform(data[attribute_name])"
   ]
  },
  {
   "cell_type": "markdown",
   "id": "urban-dispatch",
   "metadata": {},
   "source": [
    "以酒店预订的最终状态`reservation_status`作为预测对象，其他属性作为特征输入，构建Logistic模型"
   ]
  },
  {
   "cell_type": "code",
   "execution_count": 16,
   "id": "european-conversion",
   "metadata": {},
   "outputs": [],
   "source": [
    "X = data.drop(['reservation_status'], axis=1)\n",
    "y = data['reservation_status']"
   ]
  },
  {
   "cell_type": "markdown",
   "id": "insured-timing",
   "metadata": {},
   "source": [
    "按照机器学习的惯例，以8:2的比例划分训练集和测试集"
   ]
  },
  {
   "cell_type": "code",
   "execution_count": 17,
   "id": "broken-alignment",
   "metadata": {},
   "outputs": [],
   "source": [
    "X_train, X_test, y_train, y_test = train_test_split(X, y, test_size = 0.2)"
   ]
  },
  {
   "cell_type": "markdown",
   "id": "broken-marks",
   "metadata": {},
   "source": [
    "使用Logistic模型进行拟合，对`reservation_status`属性值进行预测，并通过各类评价指标对结果进行分析"
   ]
  },
  {
   "cell_type": "code",
   "execution_count": 18,
   "id": "worth-longitude",
   "metadata": {},
   "outputs": [
    {
     "name": "stdout",
     "output_type": "stream",
     "text": [
      "Mean Absolute Error: 0.25617723427422734\n",
      "Mean Squared Error: 0.25835497110310746\n",
      "R2 Score: -0.038809321385217865\n"
     ]
    }
   ],
   "source": [
    "model = LogisticRegression()\n",
    "model.fit(X_train, y_train)\n",
    "y_pred = model.predict(X_test)\n",
    "\n",
    "print('Mean Absolute Error:', mean_absolute_error(y_test, y_pred))\n",
    "print('Mean Squared Error:', mean_squared_error(y_test, y_pred))\n",
    "print('R2 Score:', r2_score(y_test, y_pred))"
   ]
  }
 ],
 "metadata": {
  "kernelspec": {
   "display_name": "torch",
   "language": "python",
   "name": "torch"
  },
  "language_info": {
   "codemirror_mode": {
    "name": "ipython",
    "version": 3
   },
   "file_extension": ".py",
   "mimetype": "text/x-python",
   "name": "python",
   "nbconvert_exporter": "python",
   "pygments_lexer": "ipython3",
   "version": "3.8.5"
  }
 },
 "nbformat": 4,
 "nbformat_minor": 5
}
